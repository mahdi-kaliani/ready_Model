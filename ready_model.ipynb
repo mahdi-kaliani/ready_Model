{
  "nbformat": 4,
  "nbformat_minor": 0,
  "metadata": {
    "colab": {
      "provenance": []
    },
    "kernelspec": {
      "name": "python3",
      "display_name": "Python 3"
    },
    "language_info": {
      "name": "python"
    }
  },
  "cells": [
    {
      "cell_type": "code",
      "source": [
        "import pandas as pd\n",
        "from sklearn.utils import shuffle\n",
        "import torch\n",
        "from torch.utils.data import TensorDataset\n",
        "from torch.utils.data import DataLoader\n",
        "from torch import nn\n",
        "from numpy import sqrt"
      ],
      "metadata": {
        "id": "7BeviSAY3isJ"
      },
      "execution_count": 25,
      "outputs": []
    },
    {
      "cell_type": "code",
      "execution_count": 26,
      "metadata": {
        "colab": {
          "base_uri": "https://localhost:8080/",
          "height": 206
        },
        "id": "H25pewU8_OR9",
        "outputId": "f68b86a2-e040-40b3-a464-e99f4edc158a"
      },
      "outputs": [
        {
          "output_type": "execute_result",
          "data": {
            "text/plain": [
              "   CustomerID  Gender  Age  Spending Score     Profession  Work Experience  \\\n",
              "0           1    Male   19              39     Healthcare                1   \n",
              "1           2    Male   21              81       Engineer                3   \n",
              "2           3  Female   20               6       Engineer                1   \n",
              "3           4  Female   23              77         Lawyer                0   \n",
              "4           5  Female   31              40  Entertainment                2   \n",
              "\n",
              "   Family Size  Annual Income  \n",
              "0            4          15000  \n",
              "1            3          35000  \n",
              "2            1          86000  \n",
              "3            2          59000  \n",
              "4            6          38000  "
            ],
            "text/html": [
              "\n",
              "  <div id=\"df-c7f2fdff-3f00-40f9-a246-186df8eacfa3\">\n",
              "    <div class=\"colab-df-container\">\n",
              "      <div>\n",
              "<style scoped>\n",
              "    .dataframe tbody tr th:only-of-type {\n",
              "        vertical-align: middle;\n",
              "    }\n",
              "\n",
              "    .dataframe tbody tr th {\n",
              "        vertical-align: top;\n",
              "    }\n",
              "\n",
              "    .dataframe thead th {\n",
              "        text-align: right;\n",
              "    }\n",
              "</style>\n",
              "<table border=\"1\" class=\"dataframe\">\n",
              "  <thead>\n",
              "    <tr style=\"text-align: right;\">\n",
              "      <th></th>\n",
              "      <th>CustomerID</th>\n",
              "      <th>Gender</th>\n",
              "      <th>Age</th>\n",
              "      <th>Spending Score</th>\n",
              "      <th>Profession</th>\n",
              "      <th>Work Experience</th>\n",
              "      <th>Family Size</th>\n",
              "      <th>Annual Income</th>\n",
              "    </tr>\n",
              "  </thead>\n",
              "  <tbody>\n",
              "    <tr>\n",
              "      <th>0</th>\n",
              "      <td>1</td>\n",
              "      <td>Male</td>\n",
              "      <td>19</td>\n",
              "      <td>39</td>\n",
              "      <td>Healthcare</td>\n",
              "      <td>1</td>\n",
              "      <td>4</td>\n",
              "      <td>15000</td>\n",
              "    </tr>\n",
              "    <tr>\n",
              "      <th>1</th>\n",
              "      <td>2</td>\n",
              "      <td>Male</td>\n",
              "      <td>21</td>\n",
              "      <td>81</td>\n",
              "      <td>Engineer</td>\n",
              "      <td>3</td>\n",
              "      <td>3</td>\n",
              "      <td>35000</td>\n",
              "    </tr>\n",
              "    <tr>\n",
              "      <th>2</th>\n",
              "      <td>3</td>\n",
              "      <td>Female</td>\n",
              "      <td>20</td>\n",
              "      <td>6</td>\n",
              "      <td>Engineer</td>\n",
              "      <td>1</td>\n",
              "      <td>1</td>\n",
              "      <td>86000</td>\n",
              "    </tr>\n",
              "    <tr>\n",
              "      <th>3</th>\n",
              "      <td>4</td>\n",
              "      <td>Female</td>\n",
              "      <td>23</td>\n",
              "      <td>77</td>\n",
              "      <td>Lawyer</td>\n",
              "      <td>0</td>\n",
              "      <td>2</td>\n",
              "      <td>59000</td>\n",
              "    </tr>\n",
              "    <tr>\n",
              "      <th>4</th>\n",
              "      <td>5</td>\n",
              "      <td>Female</td>\n",
              "      <td>31</td>\n",
              "      <td>40</td>\n",
              "      <td>Entertainment</td>\n",
              "      <td>2</td>\n",
              "      <td>6</td>\n",
              "      <td>38000</td>\n",
              "    </tr>\n",
              "  </tbody>\n",
              "</table>\n",
              "</div>\n",
              "      <button class=\"colab-df-convert\" onclick=\"convertToInteractive('df-c7f2fdff-3f00-40f9-a246-186df8eacfa3')\"\n",
              "              title=\"Convert this dataframe to an interactive table.\"\n",
              "              style=\"display:none;\">\n",
              "        \n",
              "  <svg xmlns=\"http://www.w3.org/2000/svg\" height=\"24px\"viewBox=\"0 0 24 24\"\n",
              "       width=\"24px\">\n",
              "    <path d=\"M0 0h24v24H0V0z\" fill=\"none\"/>\n",
              "    <path d=\"M18.56 5.44l.94 2.06.94-2.06 2.06-.94-2.06-.94-.94-2.06-.94 2.06-2.06.94zm-11 1L8.5 8.5l.94-2.06 2.06-.94-2.06-.94L8.5 2.5l-.94 2.06-2.06.94zm10 10l.94 2.06.94-2.06 2.06-.94-2.06-.94-.94-2.06-.94 2.06-2.06.94z\"/><path d=\"M17.41 7.96l-1.37-1.37c-.4-.4-.92-.59-1.43-.59-.52 0-1.04.2-1.43.59L10.3 9.45l-7.72 7.72c-.78.78-.78 2.05 0 2.83L4 21.41c.39.39.9.59 1.41.59.51 0 1.02-.2 1.41-.59l7.78-7.78 2.81-2.81c.8-.78.8-2.07 0-2.86zM5.41 20L4 18.59l7.72-7.72 1.47 1.35L5.41 20z\"/>\n",
              "  </svg>\n",
              "      </button>\n",
              "      \n",
              "  <style>\n",
              "    .colab-df-container {\n",
              "      display:flex;\n",
              "      flex-wrap:wrap;\n",
              "      gap: 12px;\n",
              "    }\n",
              "\n",
              "    .colab-df-convert {\n",
              "      background-color: #E8F0FE;\n",
              "      border: none;\n",
              "      border-radius: 50%;\n",
              "      cursor: pointer;\n",
              "      display: none;\n",
              "      fill: #1967D2;\n",
              "      height: 32px;\n",
              "      padding: 0 0 0 0;\n",
              "      width: 32px;\n",
              "    }\n",
              "\n",
              "    .colab-df-convert:hover {\n",
              "      background-color: #E2EBFA;\n",
              "      box-shadow: 0px 1px 2px rgba(60, 64, 67, 0.3), 0px 1px 3px 1px rgba(60, 64, 67, 0.15);\n",
              "      fill: #174EA6;\n",
              "    }\n",
              "\n",
              "    [theme=dark] .colab-df-convert {\n",
              "      background-color: #3B4455;\n",
              "      fill: #D2E3FC;\n",
              "    }\n",
              "\n",
              "    [theme=dark] .colab-df-convert:hover {\n",
              "      background-color: #434B5C;\n",
              "      box-shadow: 0px 1px 3px 1px rgba(0, 0, 0, 0.15);\n",
              "      filter: drop-shadow(0px 1px 2px rgba(0, 0, 0, 0.3));\n",
              "      fill: #FFFFFF;\n",
              "    }\n",
              "  </style>\n",
              "\n",
              "      <script>\n",
              "        const buttonEl =\n",
              "          document.querySelector('#df-c7f2fdff-3f00-40f9-a246-186df8eacfa3 button.colab-df-convert');\n",
              "        buttonEl.style.display =\n",
              "          google.colab.kernel.accessAllowed ? 'block' : 'none';\n",
              "\n",
              "        async function convertToInteractive(key) {\n",
              "          const element = document.querySelector('#df-c7f2fdff-3f00-40f9-a246-186df8eacfa3');\n",
              "          const dataTable =\n",
              "            await google.colab.kernel.invokeFunction('convertToInteractive',\n",
              "                                                     [key], {});\n",
              "          if (!dataTable) return;\n",
              "\n",
              "          const docLinkHtml = 'Like what you see? Visit the ' +\n",
              "            '<a target=\"_blank\" href=https://colab.research.google.com/notebooks/data_table.ipynb>data table notebook</a>'\n",
              "            + ' to learn more about interactive tables.';\n",
              "          element.innerHTML = '';\n",
              "          dataTable['output_type'] = 'display_data';\n",
              "          await google.colab.output.renderOutput(dataTable, element);\n",
              "          const docLink = document.createElement('div');\n",
              "          docLink.innerHTML = docLinkHtml;\n",
              "          element.appendChild(docLink);\n",
              "        }\n",
              "      </script>\n",
              "    </div>\n",
              "  </div>\n",
              "  "
            ]
          },
          "metadata": {},
          "execution_count": 26
        }
      ],
      "source": [
        "traind_df = pd.read_csv(\"/content/Train.csv\")\n",
        "test_df = pd.read_csv(\"/content/Test.csv\")\n",
        "traind_df.head()"
      ]
    },
    {
      "cell_type": "code",
      "source": [
        "encoder ={\n",
        "    \"Gender\": {\"Male\": 1 , \"Female\": 0},\n",
        "\n",
        "        \"Profession\":{\"Engineer\": 1 , \"Healthcare\": 2 ,\n",
        "                  \"Lawyer\": 3 , \"Entertainment\": 4 ,\n",
        "                  \"Artist\": 5 , \"Doctor\": 6 ,\n",
        "                  \"Homemaker\": 7 , \"Executive\": 8 ,\n",
        "                  \"Marketing\": 9}\n",
        "}\n",
        "\n",
        "traind_df = traind_df.replace(encoder)\n",
        "traind_df.head()"
      ],
      "metadata": {
        "colab": {
          "base_uri": "https://localhost:8080/",
          "height": 206
        },
        "id": "ZHDoykhJT2mg",
        "outputId": "c55833b8-f585-435b-a37d-7361dce4b849"
      },
      "execution_count": 27,
      "outputs": [
        {
          "output_type": "execute_result",
          "data": {
            "text/plain": [
              "   CustomerID  Gender  Age  Spending Score  Profession  Work Experience  \\\n",
              "0           1       1   19              39         2.0                1   \n",
              "1           2       1   21              81         1.0                3   \n",
              "2           3       0   20               6         1.0                1   \n",
              "3           4       0   23              77         3.0                0   \n",
              "4           5       0   31              40         4.0                2   \n",
              "\n",
              "   Family Size  Annual Income  \n",
              "0            4          15000  \n",
              "1            3          35000  \n",
              "2            1          86000  \n",
              "3            2          59000  \n",
              "4            6          38000  "
            ],
            "text/html": [
              "\n",
              "  <div id=\"df-157ce37d-e931-4588-b7a6-83be80c810ca\">\n",
              "    <div class=\"colab-df-container\">\n",
              "      <div>\n",
              "<style scoped>\n",
              "    .dataframe tbody tr th:only-of-type {\n",
              "        vertical-align: middle;\n",
              "    }\n",
              "\n",
              "    .dataframe tbody tr th {\n",
              "        vertical-align: top;\n",
              "    }\n",
              "\n",
              "    .dataframe thead th {\n",
              "        text-align: right;\n",
              "    }\n",
              "</style>\n",
              "<table border=\"1\" class=\"dataframe\">\n",
              "  <thead>\n",
              "    <tr style=\"text-align: right;\">\n",
              "      <th></th>\n",
              "      <th>CustomerID</th>\n",
              "      <th>Gender</th>\n",
              "      <th>Age</th>\n",
              "      <th>Spending Score</th>\n",
              "      <th>Profession</th>\n",
              "      <th>Work Experience</th>\n",
              "      <th>Family Size</th>\n",
              "      <th>Annual Income</th>\n",
              "    </tr>\n",
              "  </thead>\n",
              "  <tbody>\n",
              "    <tr>\n",
              "      <th>0</th>\n",
              "      <td>1</td>\n",
              "      <td>1</td>\n",
              "      <td>19</td>\n",
              "      <td>39</td>\n",
              "      <td>2.0</td>\n",
              "      <td>1</td>\n",
              "      <td>4</td>\n",
              "      <td>15000</td>\n",
              "    </tr>\n",
              "    <tr>\n",
              "      <th>1</th>\n",
              "      <td>2</td>\n",
              "      <td>1</td>\n",
              "      <td>21</td>\n",
              "      <td>81</td>\n",
              "      <td>1.0</td>\n",
              "      <td>3</td>\n",
              "      <td>3</td>\n",
              "      <td>35000</td>\n",
              "    </tr>\n",
              "    <tr>\n",
              "      <th>2</th>\n",
              "      <td>3</td>\n",
              "      <td>0</td>\n",
              "      <td>20</td>\n",
              "      <td>6</td>\n",
              "      <td>1.0</td>\n",
              "      <td>1</td>\n",
              "      <td>1</td>\n",
              "      <td>86000</td>\n",
              "    </tr>\n",
              "    <tr>\n",
              "      <th>3</th>\n",
              "      <td>4</td>\n",
              "      <td>0</td>\n",
              "      <td>23</td>\n",
              "      <td>77</td>\n",
              "      <td>3.0</td>\n",
              "      <td>0</td>\n",
              "      <td>2</td>\n",
              "      <td>59000</td>\n",
              "    </tr>\n",
              "    <tr>\n",
              "      <th>4</th>\n",
              "      <td>5</td>\n",
              "      <td>0</td>\n",
              "      <td>31</td>\n",
              "      <td>40</td>\n",
              "      <td>4.0</td>\n",
              "      <td>2</td>\n",
              "      <td>6</td>\n",
              "      <td>38000</td>\n",
              "    </tr>\n",
              "  </tbody>\n",
              "</table>\n",
              "</div>\n",
              "      <button class=\"colab-df-convert\" onclick=\"convertToInteractive('df-157ce37d-e931-4588-b7a6-83be80c810ca')\"\n",
              "              title=\"Convert this dataframe to an interactive table.\"\n",
              "              style=\"display:none;\">\n",
              "        \n",
              "  <svg xmlns=\"http://www.w3.org/2000/svg\" height=\"24px\"viewBox=\"0 0 24 24\"\n",
              "       width=\"24px\">\n",
              "    <path d=\"M0 0h24v24H0V0z\" fill=\"none\"/>\n",
              "    <path d=\"M18.56 5.44l.94 2.06.94-2.06 2.06-.94-2.06-.94-.94-2.06-.94 2.06-2.06.94zm-11 1L8.5 8.5l.94-2.06 2.06-.94-2.06-.94L8.5 2.5l-.94 2.06-2.06.94zm10 10l.94 2.06.94-2.06 2.06-.94-2.06-.94-.94-2.06-.94 2.06-2.06.94z\"/><path d=\"M17.41 7.96l-1.37-1.37c-.4-.4-.92-.59-1.43-.59-.52 0-1.04.2-1.43.59L10.3 9.45l-7.72 7.72c-.78.78-.78 2.05 0 2.83L4 21.41c.39.39.9.59 1.41.59.51 0 1.02-.2 1.41-.59l7.78-7.78 2.81-2.81c.8-.78.8-2.07 0-2.86zM5.41 20L4 18.59l7.72-7.72 1.47 1.35L5.41 20z\"/>\n",
              "  </svg>\n",
              "      </button>\n",
              "      \n",
              "  <style>\n",
              "    .colab-df-container {\n",
              "      display:flex;\n",
              "      flex-wrap:wrap;\n",
              "      gap: 12px;\n",
              "    }\n",
              "\n",
              "    .colab-df-convert {\n",
              "      background-color: #E8F0FE;\n",
              "      border: none;\n",
              "      border-radius: 50%;\n",
              "      cursor: pointer;\n",
              "      display: none;\n",
              "      fill: #1967D2;\n",
              "      height: 32px;\n",
              "      padding: 0 0 0 0;\n",
              "      width: 32px;\n",
              "    }\n",
              "\n",
              "    .colab-df-convert:hover {\n",
              "      background-color: #E2EBFA;\n",
              "      box-shadow: 0px 1px 2px rgba(60, 64, 67, 0.3), 0px 1px 3px 1px rgba(60, 64, 67, 0.15);\n",
              "      fill: #174EA6;\n",
              "    }\n",
              "\n",
              "    [theme=dark] .colab-df-convert {\n",
              "      background-color: #3B4455;\n",
              "      fill: #D2E3FC;\n",
              "    }\n",
              "\n",
              "    [theme=dark] .colab-df-convert:hover {\n",
              "      background-color: #434B5C;\n",
              "      box-shadow: 0px 1px 3px 1px rgba(0, 0, 0, 0.15);\n",
              "      filter: drop-shadow(0px 1px 2px rgba(0, 0, 0, 0.3));\n",
              "      fill: #FFFFFF;\n",
              "    }\n",
              "  </style>\n",
              "\n",
              "      <script>\n",
              "        const buttonEl =\n",
              "          document.querySelector('#df-157ce37d-e931-4588-b7a6-83be80c810ca button.colab-df-convert');\n",
              "        buttonEl.style.display =\n",
              "          google.colab.kernel.accessAllowed ? 'block' : 'none';\n",
              "\n",
              "        async function convertToInteractive(key) {\n",
              "          const element = document.querySelector('#df-157ce37d-e931-4588-b7a6-83be80c810ca');\n",
              "          const dataTable =\n",
              "            await google.colab.kernel.invokeFunction('convertToInteractive',\n",
              "                                                     [key], {});\n",
              "          if (!dataTable) return;\n",
              "\n",
              "          const docLinkHtml = 'Like what you see? Visit the ' +\n",
              "            '<a target=\"_blank\" href=https://colab.research.google.com/notebooks/data_table.ipynb>data table notebook</a>'\n",
              "            + ' to learn more about interactive tables.';\n",
              "          element.innerHTML = '';\n",
              "          dataTable['output_type'] = 'display_data';\n",
              "          await google.colab.output.renderOutput(dataTable, element);\n",
              "          const docLink = document.createElement('div');\n",
              "          docLink.innerHTML = docLinkHtml;\n",
              "          element.appendChild(docLink);\n",
              "        }\n",
              "      </script>\n",
              "    </div>\n",
              "  </div>\n",
              "  "
            ]
          },
          "metadata": {},
          "execution_count": 27
        }
      ]
    },
    {
      "cell_type": "code",
      "source": [
        "test_df = test_df.replace(encoder)\n",
        "test_df.head()"
      ],
      "metadata": {
        "colab": {
          "base_uri": "https://localhost:8080/",
          "height": 206
        },
        "id": "MS_iPZC6qopi",
        "outputId": "e341bd8f-7cd6-4dcb-b58e-7b0778b81bb7"
      },
      "execution_count": 28,
      "outputs": [
        {
          "output_type": "execute_result",
          "data": {
            "text/plain": [
              "   CustomerID  Gender  Age  Spending Score  Profession  Work Experience  \\\n",
              "0        1601       0   24              79         4.0                0   \n",
              "1        1602       0   71              90         5.0                1   \n",
              "2        1603       1    1              64         4.0                0   \n",
              "3        1604       1    0              62         2.0                1   \n",
              "4        1605       1   30              92         2.0                0   \n",
              "\n",
              "   Family Size  Annual Income   \n",
              "0            7           51661  \n",
              "1            6          152910  \n",
              "2            7          114556  \n",
              "3            6          143455  \n",
              "4            3          173096  "
            ],
            "text/html": [
              "\n",
              "  <div id=\"df-a2f9bfb3-76f5-4279-b33a-219807fd7425\">\n",
              "    <div class=\"colab-df-container\">\n",
              "      <div>\n",
              "<style scoped>\n",
              "    .dataframe tbody tr th:only-of-type {\n",
              "        vertical-align: middle;\n",
              "    }\n",
              "\n",
              "    .dataframe tbody tr th {\n",
              "        vertical-align: top;\n",
              "    }\n",
              "\n",
              "    .dataframe thead th {\n",
              "        text-align: right;\n",
              "    }\n",
              "</style>\n",
              "<table border=\"1\" class=\"dataframe\">\n",
              "  <thead>\n",
              "    <tr style=\"text-align: right;\">\n",
              "      <th></th>\n",
              "      <th>CustomerID</th>\n",
              "      <th>Gender</th>\n",
              "      <th>Age</th>\n",
              "      <th>Spending Score</th>\n",
              "      <th>Profession</th>\n",
              "      <th>Work Experience</th>\n",
              "      <th>Family Size</th>\n",
              "      <th>Annual Income</th>\n",
              "    </tr>\n",
              "  </thead>\n",
              "  <tbody>\n",
              "    <tr>\n",
              "      <th>0</th>\n",
              "      <td>1601</td>\n",
              "      <td>0</td>\n",
              "      <td>24</td>\n",
              "      <td>79</td>\n",
              "      <td>4.0</td>\n",
              "      <td>0</td>\n",
              "      <td>7</td>\n",
              "      <td>51661</td>\n",
              "    </tr>\n",
              "    <tr>\n",
              "      <th>1</th>\n",
              "      <td>1602</td>\n",
              "      <td>0</td>\n",
              "      <td>71</td>\n",
              "      <td>90</td>\n",
              "      <td>5.0</td>\n",
              "      <td>1</td>\n",
              "      <td>6</td>\n",
              "      <td>152910</td>\n",
              "    </tr>\n",
              "    <tr>\n",
              "      <th>2</th>\n",
              "      <td>1603</td>\n",
              "      <td>1</td>\n",
              "      <td>1</td>\n",
              "      <td>64</td>\n",
              "      <td>4.0</td>\n",
              "      <td>0</td>\n",
              "      <td>7</td>\n",
              "      <td>114556</td>\n",
              "    </tr>\n",
              "    <tr>\n",
              "      <th>3</th>\n",
              "      <td>1604</td>\n",
              "      <td>1</td>\n",
              "      <td>0</td>\n",
              "      <td>62</td>\n",
              "      <td>2.0</td>\n",
              "      <td>1</td>\n",
              "      <td>6</td>\n",
              "      <td>143455</td>\n",
              "    </tr>\n",
              "    <tr>\n",
              "      <th>4</th>\n",
              "      <td>1605</td>\n",
              "      <td>1</td>\n",
              "      <td>30</td>\n",
              "      <td>92</td>\n",
              "      <td>2.0</td>\n",
              "      <td>0</td>\n",
              "      <td>3</td>\n",
              "      <td>173096</td>\n",
              "    </tr>\n",
              "  </tbody>\n",
              "</table>\n",
              "</div>\n",
              "      <button class=\"colab-df-convert\" onclick=\"convertToInteractive('df-a2f9bfb3-76f5-4279-b33a-219807fd7425')\"\n",
              "              title=\"Convert this dataframe to an interactive table.\"\n",
              "              style=\"display:none;\">\n",
              "        \n",
              "  <svg xmlns=\"http://www.w3.org/2000/svg\" height=\"24px\"viewBox=\"0 0 24 24\"\n",
              "       width=\"24px\">\n",
              "    <path d=\"M0 0h24v24H0V0z\" fill=\"none\"/>\n",
              "    <path d=\"M18.56 5.44l.94 2.06.94-2.06 2.06-.94-2.06-.94-.94-2.06-.94 2.06-2.06.94zm-11 1L8.5 8.5l.94-2.06 2.06-.94-2.06-.94L8.5 2.5l-.94 2.06-2.06.94zm10 10l.94 2.06.94-2.06 2.06-.94-2.06-.94-.94-2.06-.94 2.06-2.06.94z\"/><path d=\"M17.41 7.96l-1.37-1.37c-.4-.4-.92-.59-1.43-.59-.52 0-1.04.2-1.43.59L10.3 9.45l-7.72 7.72c-.78.78-.78 2.05 0 2.83L4 21.41c.39.39.9.59 1.41.59.51 0 1.02-.2 1.41-.59l7.78-7.78 2.81-2.81c.8-.78.8-2.07 0-2.86zM5.41 20L4 18.59l7.72-7.72 1.47 1.35L5.41 20z\"/>\n",
              "  </svg>\n",
              "      </button>\n",
              "      \n",
              "  <style>\n",
              "    .colab-df-container {\n",
              "      display:flex;\n",
              "      flex-wrap:wrap;\n",
              "      gap: 12px;\n",
              "    }\n",
              "\n",
              "    .colab-df-convert {\n",
              "      background-color: #E8F0FE;\n",
              "      border: none;\n",
              "      border-radius: 50%;\n",
              "      cursor: pointer;\n",
              "      display: none;\n",
              "      fill: #1967D2;\n",
              "      height: 32px;\n",
              "      padding: 0 0 0 0;\n",
              "      width: 32px;\n",
              "    }\n",
              "\n",
              "    .colab-df-convert:hover {\n",
              "      background-color: #E2EBFA;\n",
              "      box-shadow: 0px 1px 2px rgba(60, 64, 67, 0.3), 0px 1px 3px 1px rgba(60, 64, 67, 0.15);\n",
              "      fill: #174EA6;\n",
              "    }\n",
              "\n",
              "    [theme=dark] .colab-df-convert {\n",
              "      background-color: #3B4455;\n",
              "      fill: #D2E3FC;\n",
              "    }\n",
              "\n",
              "    [theme=dark] .colab-df-convert:hover {\n",
              "      background-color: #434B5C;\n",
              "      box-shadow: 0px 1px 3px 1px rgba(0, 0, 0, 0.15);\n",
              "      filter: drop-shadow(0px 1px 2px rgba(0, 0, 0, 0.3));\n",
              "      fill: #FFFFFF;\n",
              "    }\n",
              "  </style>\n",
              "\n",
              "      <script>\n",
              "        const buttonEl =\n",
              "          document.querySelector('#df-a2f9bfb3-76f5-4279-b33a-219807fd7425 button.colab-df-convert');\n",
              "        buttonEl.style.display =\n",
              "          google.colab.kernel.accessAllowed ? 'block' : 'none';\n",
              "\n",
              "        async function convertToInteractive(key) {\n",
              "          const element = document.querySelector('#df-a2f9bfb3-76f5-4279-b33a-219807fd7425');\n",
              "          const dataTable =\n",
              "            await google.colab.kernel.invokeFunction('convertToInteractive',\n",
              "                                                     [key], {});\n",
              "          if (!dataTable) return;\n",
              "\n",
              "          const docLinkHtml = 'Like what you see? Visit the ' +\n",
              "            '<a target=\"_blank\" href=https://colab.research.google.com/notebooks/data_table.ipynb>data table notebook</a>'\n",
              "            + ' to learn more about interactive tables.';\n",
              "          element.innerHTML = '';\n",
              "          dataTable['output_type'] = 'display_data';\n",
              "          await google.colab.output.renderOutput(dataTable, element);\n",
              "          const docLink = document.createElement('div');\n",
              "          docLink.innerHTML = docLinkHtml;\n",
              "          element.appendChild(docLink);\n",
              "        }\n",
              "      </script>\n",
              "    </div>\n",
              "  </div>\n",
              "  "
            ]
          },
          "metadata": {},
          "execution_count": 28
        }
      ]
    },
    {
      "cell_type": "code",
      "source": [
        "data = shuffle(traind_df)\n",
        "for i in data:\n",
        "  print(data[i].describe())\n",
        ""
      ],
      "metadata": {
        "colab": {
          "base_uri": "https://localhost:8080/"
        },
        "id": "raKh74cmce3m",
        "outputId": "3297d3ef-5da4-4aa0-a35b-dde60498ee33"
      },
      "execution_count": 29,
      "outputs": [
        {
          "output_type": "stream",
          "name": "stdout",
          "text": [
            "count    1599.000000\n",
            "mean      800.000000\n",
            "std       461.735855\n",
            "min         1.000000\n",
            "25%       400.500000\n",
            "50%       800.000000\n",
            "75%      1199.500000\n",
            "max      1599.000000\n",
            "Name: CustomerID, dtype: float64\n",
            "count    1599.000000\n",
            "mean        0.403377\n",
            "std         0.490729\n",
            "min         0.000000\n",
            "25%         0.000000\n",
            "50%         0.000000\n",
            "75%         1.000000\n",
            "max         1.000000\n",
            "Name: Gender, dtype: float64\n",
            "count    1599.000000\n",
            "mean       48.800500\n",
            "std        28.220739\n",
            "min         0.000000\n",
            "25%        25.000000\n",
            "50%        47.000000\n",
            "75%        73.000000\n",
            "max        99.000000\n",
            "Name: Age, dtype: float64\n",
            "count    1599.000000\n",
            "mean       50.635397\n",
            "std        28.157660\n",
            "min         0.000000\n",
            "25%        27.000000\n",
            "50%        50.000000\n",
            "75%        75.000000\n",
            "max       100.000000\n",
            "Name: Spending Score, dtype: float64\n",
            "count    1570.000000\n",
            "mean        4.347771\n",
            "std         2.159969\n",
            "min         1.000000\n",
            "25%         2.000000\n",
            "50%         5.000000\n",
            "75%         5.000000\n",
            "max         9.000000\n",
            "Name: Profession, dtype: float64\n",
            "count    1599.000000\n",
            "mean        3.903690\n",
            "std         3.981903\n",
            "min         0.000000\n",
            "25%         1.000000\n",
            "50%         2.000000\n",
            "75%         7.000000\n",
            "max        17.000000\n",
            "Name: Work Experience, dtype: float64\n",
            "count    1599.000000\n",
            "mean        3.718574\n",
            "std         1.952720\n",
            "min         1.000000\n",
            "25%         2.000000\n",
            "50%         4.000000\n",
            "75%         5.000000\n",
            "max         9.000000\n",
            "Name: Family Size, dtype: float64\n",
            "count      1599.000000\n",
            "mean     108212.776735\n",
            "std       46520.152619\n",
            "min           0.000000\n",
            "25%       72185.500000\n",
            "50%      104974.000000\n",
            "75%      147303.500000\n",
            "max      189974.000000\n",
            "Name: Annual Income, dtype: float64\n"
          ]
        }
      ]
    },
    {
      "cell_type": "code",
      "source": [
        "X_train_np = traind_df.to_numpy()[:, :-1]\n",
        "Y_train_np = traind_df.to_numpy()[:, -1]\n",
        "\n",
        "X_train_np.shape , Y_train_np.shape"
      ],
      "metadata": {
        "colab": {
          "base_uri": "https://localhost:8080/"
        },
        "id": "NLGJJuiJKKFR",
        "outputId": "be518ce3-300b-495f-cf06-cc7025eb3557"
      },
      "execution_count": 30,
      "outputs": [
        {
          "output_type": "execute_result",
          "data": {
            "text/plain": [
              "((1599, 7), (1599,))"
            ]
          },
          "metadata": {},
          "execution_count": 30
        }
      ]
    },
    {
      "cell_type": "code",
      "source": [
        "X_test_np = test_df.to_numpy()[:, :-1]\n",
        "Y_test_np = test_df.to_numpy()[:, -1]\n",
        "\n",
        "X_test_np.shape , Y_test_np.shape"
      ],
      "metadata": {
        "colab": {
          "base_uri": "https://localhost:8080/"
        },
        "id": "Q2TkBGGFIu3a",
        "outputId": "f26c4f97-3a4d-497f-a3c4-3f77328ea502"
      },
      "execution_count": 31,
      "outputs": [
        {
          "output_type": "execute_result",
          "data": {
            "text/plain": [
              "((400, 7), (400,))"
            ]
          },
          "metadata": {},
          "execution_count": 31
        }
      ]
    },
    {
      "cell_type": "code",
      "source": [
        "train_dataset = TensorDataset(torch.tensor(X_train_np, dtype=torch.float),\n",
        "                              torch.tensor(Y_train_np.reshape((-1, 1)), dtype=torch.float))\n",
        "\n",
        "train_dataset"
      ],
      "metadata": {
        "colab": {
          "base_uri": "https://localhost:8080/"
        },
        "id": "hfrvII5ZIyXr",
        "outputId": "18dcc6ce-570c-4d5d-ba21-f8f6effcaf4a"
      },
      "execution_count": 32,
      "outputs": [
        {
          "output_type": "execute_result",
          "data": {
            "text/plain": [
              "<torch.utils.data.dataset.TensorDataset at 0x7ff398b8e080>"
            ]
          },
          "metadata": {},
          "execution_count": 32
        }
      ]
    },
    {
      "cell_type": "code",
      "source": [
        "test_dataset = TensorDataset(torch.tensor(X_test_np, dtype=torch.float),\n",
        "                              torch.tensor(Y_test_np.reshape((-1, 1)), dtype=torch.float))\n",
        "\n",
        "test_dataset"
      ],
      "metadata": {
        "colab": {
          "base_uri": "https://localhost:8080/"
        },
        "id": "KxDhLSbwrZAr",
        "outputId": "76d1bcd8-0df0-4cf4-fe1d-4fcc0b30ab5c"
      },
      "execution_count": 33,
      "outputs": [
        {
          "output_type": "execute_result",
          "data": {
            "text/plain": [
              "<torch.utils.data.dataset.TensorDataset at 0x7ff398b8e3b0>"
            ]
          },
          "metadata": {},
          "execution_count": 33
        }
      ]
    },
    {
      "cell_type": "code",
      "source": [
        "batch_size = 128\n",
        "\n",
        "train_loader = DataLoader(train_dataset , batch_size)\n",
        "test_loader = DataLoader(test_dataset , batch_size)\n",
        "\n",
        "for X,Y in train_loader:\n",
        "  print(X.shape , Y.shape)\n",
        "  break\n",
        "\n",
        "for X,Y in train_loader:\n",
        "  print(X.shape , Y.shape)\n",
        "  break"
      ],
      "metadata": {
        "colab": {
          "base_uri": "https://localhost:8080/"
        },
        "id": "0GQdmqSVpHI-",
        "outputId": "6392d678-4b78-45f9-9536-ec06cb4e3fa2"
      },
      "execution_count": 34,
      "outputs": [
        {
          "output_type": "stream",
          "name": "stdout",
          "text": [
            "torch.Size([128, 7]) torch.Size([128, 1])\n",
            "torch.Size([128, 7]) torch.Size([128, 1])\n"
          ]
        }
      ]
    },
    {
      "cell_type": "code",
      "source": [
        "device = \"cuda\" if torch.cuda.is_available() else \"cpu\"\n",
        "print(f'using {device} device')"
      ],
      "metadata": {
        "colab": {
          "base_uri": "https://localhost:8080/"
        },
        "id": "zGR-nLSkhIAr",
        "outputId": "73187eed-6ed5-47b3-cdd9-a791a218de49"
      },
      "execution_count": 35,
      "outputs": [
        {
          "output_type": "stream",
          "name": "stdout",
          "text": [
            "using cpu device\n"
          ]
        }
      ]
    },
    {
      "cell_type": "code",
      "source": [
        "class CustomerNeuralNetwork(nn.Module):\n",
        "  def __init__(self , input_dim , hidden_dim , out_dim):\n",
        "    super(CustomerNeuralNetwork , self).__init__()\n",
        "\n",
        "    self.first_layer = nn.Linear(input_dim , hidden_dim)\n",
        "    self.first_activation = nn.ReLU()\n",
        "    self.out_layer = nn.Linear(hidden_dim , out_dim)\n",
        "\n",
        "  def forward(self , batch_input):\n",
        "    batch_input = self.first_layer(batch_input)\n",
        "    batch_input = self.first_activation(batch_input)\n",
        "    batch_input = self.out_layer(batch_input)\n",
        "\n",
        "    return batch_input"
      ],
      "metadata": {
        "id": "k1e7swaMrz3v"
      },
      "execution_count": 36,
      "outputs": []
    },
    {
      "cell_type": "code",
      "source": [
        "def train(dataloader , model, loss_function, optimizer):\n",
        "  model.train()\n",
        "  train_loss = 0\n",
        "\n",
        "  for i , (X,Y) in enumerate(dataloader):\n",
        "    X,Y = X.to(device) , Y.to(device)\n",
        "\n",
        "    y_hat = model(X)\n",
        "    mse = loss_function(y_hat , Y)\n",
        "    train_loss += mse.item()\n",
        "\n",
        "    optimizer.zero_grad()\n",
        "    mse.backward()\n",
        "    optimizer.step()\n",
        "\n",
        "  num_batches = len(dataloader)\n",
        "  train_mse = train_loss / num_batches\n",
        "  print(f'Train RMSE : {sqrt(train_mse)}')"
      ],
      "metadata": {
        "id": "tBbCUqzlbkRV"
      },
      "execution_count": 37,
      "outputs": []
    },
    {
      "cell_type": "code",
      "source": [
        "def test(dataloader , model , loss_function):\n",
        "  model.eval()\n",
        "  test_loss = 0\n",
        "\n",
        "  with torch.no_grad():\n",
        "    for i , (X,Y) in enumerate(dataloader):\n",
        "      X,Y = X.to(device) , Y.to(device)\n",
        "\n",
        "      y_hat = model(X)\n",
        "      mse = loss_function(y_hat , Y)\n",
        "      test_loss += mse.item()\n",
        "\n",
        "  num_batches = len(dataloader)\n",
        "  test_mse = test_loss / num_batches\n",
        "  print(f'Test RMSE : {sqrt(test_mse)}')"
      ],
      "metadata": {
        "id": "8Ada6PtIbqQl"
      },
      "execution_count": 38,
      "outputs": []
    },
    {
      "cell_type": "code",
      "source": [
        "input_dim = 7\n",
        "hidden_dim = 5\n",
        "output_dim = 1\n",
        "\n",
        "model = CustomerNeuralNetwork(input_dim , hidden_dim , output_dim).to(device)\n",
        "print(model)"
      ],
      "metadata": {
        "id": "qYlgdvYh1R4_",
        "colab": {
          "base_uri": "https://localhost:8080/"
        },
        "outputId": "8aaa5b86-f2d2-461d-f363-629871b7420a"
      },
      "execution_count": 39,
      "outputs": [
        {
          "output_type": "stream",
          "name": "stdout",
          "text": [
            "CustomerNeuralNetwork(\n",
            "  (first_layer): Linear(in_features=7, out_features=5, bias=True)\n",
            "  (first_activation): ReLU()\n",
            "  (out_layer): Linear(in_features=5, out_features=1, bias=True)\n",
            ")\n"
          ]
        }
      ]
    },
    {
      "cell_type": "code",
      "source": [
        "loss_function = nn.MSELoss()\n",
        "optimizer = torch.optim.Adam(model.parameters(), lr=0.01)"
      ],
      "metadata": {
        "id": "LQa53ait16Qb"
      },
      "execution_count": 40,
      "outputs": []
    },
    {
      "cell_type": "code",
      "source": [
        "epochs = 10\n",
        "\n",
        "for epoch in range(epochs):\n",
        "  print(f'Epoch {epoch+1}:')\n",
        "\n",
        "  train(train_loader , model , loss_function , optimizer)\n",
        "  test(test_loader , model , loss_function)"
      ],
      "metadata": {
        "colab": {
          "base_uri": "https://localhost:8080/"
        },
        "id": "SCtygxac1-Xt",
        "outputId": "b7878fe7-789f-435f-dea8-ea3537d20c35"
      },
      "execution_count": 41,
      "outputs": [
        {
          "output_type": "stream",
          "name": "stdout",
          "text": [
            "Epoch 1:\n",
            "Train RMSE : nan\n",
            "Test RMSE : nan\n",
            "Epoch 2:\n",
            "Train RMSE : nan\n",
            "Test RMSE : nan\n",
            "Epoch 3:\n",
            "Train RMSE : nan\n",
            "Test RMSE : nan\n",
            "Epoch 4:\n",
            "Train RMSE : nan\n",
            "Test RMSE : nan\n",
            "Epoch 5:\n",
            "Train RMSE : nan\n",
            "Test RMSE : nan\n",
            "Epoch 6:\n",
            "Train RMSE : nan\n",
            "Test RMSE : nan\n",
            "Epoch 7:\n",
            "Train RMSE : nan\n",
            "Test RMSE : nan\n",
            "Epoch 8:\n",
            "Train RMSE : nan\n",
            "Test RMSE : nan\n",
            "Epoch 9:\n",
            "Train RMSE : nan\n",
            "Test RMSE : nan\n",
            "Epoch 10:\n",
            "Train RMSE : nan\n",
            "Test RMSE : nan\n"
          ]
        }
      ]
    }
  ]
}